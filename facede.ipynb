{
 "cells": [
  {
   "cell_type": "code",
   "execution_count": 1,
   "metadata": {},
   "outputs": [],
   "source": [
    "import cv2 \n",
    "casclf=cv2.CascadeClassifier('/home/sourabh/sourabh.xml')\n"
   ]
  },
  {
   "cell_type": "code",
   "execution_count": 3,
   "metadata": {},
   "outputs": [],
   "source": [
    "# appliyng or calling classifier\n",
    "cap=cv2.VideoCapture(0)\n",
    "cap.set(3, 480) #set width of the frame\n",
    "cap.set(4, 640)\n",
    "while cap.isOpened() :\n",
    "        status,frame=cap.read()\n",
    "        #applying classifier in live frame\n",
    "        face=casclf.detectMultiScale(frame,1.13,5)#classifying tuning parameter\n",
    "        #print(face)\n",
    "        for x,y,h,w in face:\n",
    "            cv2.rectangle(frame,(x,y),(x+y,y+w),(0,0,255),2)\n",
    "            \n",
    "            cv2.imshow('face',frame)\n",
    "        if   cv2.waitKey(10) & 0xff == ord('q'):\n",
    "            break\n",
    "cv2.destroyAllWindows()\n",
    "cap.release()"
   ]
  },
  {
   "cell_type": "code",
   "execution_count": null,
   "metadata": {},
   "outputs": [],
   "source": []
  },
  {
   "cell_type": "code",
   "execution_count": null,
   "metadata": {},
   "outputs": [],
   "source": []
  }
 ],
 "metadata": {
  "kernelspec": {
   "display_name": "Python 3",
   "language": "python",
   "name": "python3"
  },
  "language_info": {
   "codemirror_mode": {
    "name": "ipython",
    "version": 3
   },
   "file_extension": ".py",
   "mimetype": "text/x-python",
   "name": "python",
   "nbconvert_exporter": "python",
   "pygments_lexer": "ipython3",
   "version": "3.7.3"
  }
 },
 "nbformat": 4,
 "nbformat_minor": 2
}
